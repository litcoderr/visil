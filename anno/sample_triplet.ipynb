{
 "cells": [
  {
   "cell_type": "code",
   "execution_count": 5,
   "metadata": {},
   "outputs": [],
   "source": [
    "import ndjson\n",
    "import numpy as np"
   ]
  },
  {
   "cell_type": "code",
   "execution_count": 6,
   "metadata": {},
   "outputs": [
    {
     "name": "stdout",
     "output_type": "stream",
     "text": [
      "sim matrix shape: (903, 903)\n",
      "annotation length: 903\n"
     ]
    }
   ],
   "source": [
    "split = (\"train\", \"test\", \"val\")\n",
    "anno = {}\n",
    "sim = {}\n",
    "\n",
    "for s in split:\n",
    "    with open(f\"moma/{s}.ndjson\", \"r\") as f:\n",
    "        anno[s] = ndjson.load(f)\n",
    "    sim[s] = np.load(f\"moma/sm_dtw_{s}.npy\")\n",
    "\n",
    "print(f\"sim matrix shape: {sim['train'].shape}\")\n",
    "print(f\"annotation length: {len(anno['train'])}\")"
   ]
  },
  {
   "cell_type": "code",
   "execution_count": 7,
   "metadata": {},
   "outputs": [],
   "source": [
    "threshold = 0.3\n",
    "\n",
    "pos = {}\n",
    "neg = {}\n",
    "for s in split:\n",
    "    pos_inds = []\n",
    "    neg_inds = []\n",
    "    for idx in range(len(anno[s])):\n",
    "        ind = np.argsort(sim[s][idx])[::-1]\n",
    "        median_len = int(len(anno[s]) * threshold)\n",
    "        pos_inds.append(ind[:median_len])\n",
    "        neg_inds.append(ind[-median_len:])\n",
    "    pos_inds = np.stack(pos_inds)\n",
    "    neg_inds = np.stack(neg_inds)\n",
    "    pos[s] = pos_inds\n",
    "    neg[s] = neg_inds\n"
   ]
  },
  {
   "cell_type": "code",
   "execution_count": 8,
   "metadata": {},
   "outputs": [
    {
     "data": {
      "text/plain": [
       "(903, 270)"
      ]
     },
     "execution_count": 8,
     "metadata": {},
     "output_type": "execute_result"
    }
   ],
   "source": [
    "pos['train'].shape"
   ]
  },
  {
   "cell_type": "code",
   "execution_count": 9,
   "metadata": {},
   "outputs": [],
   "source": [
    "for s, arr in pos.items():\n",
    "    np.save(f\"moma/triplet/{s}_pos_thr={threshold}.npy\", arr)\n",
    "\n",
    "for s, arr in neg.items():\n",
    "    np.save(f\"moma/triplet/{s}_neg_thr={threshold}.npy\", arr)"
   ]
  },
  {
   "cell_type": "code",
   "execution_count": null,
   "metadata": {},
   "outputs": [],
   "source": []
  }
 ],
 "metadata": {
  "kernelspec": {
   "display_name": "base",
   "language": "python",
   "name": "python3"
  },
  "language_info": {
   "codemirror_mode": {
    "name": "ipython",
    "version": 3
   },
   "file_extension": ".py",
   "mimetype": "text/x-python",
   "name": "python",
   "nbconvert_exporter": "python",
   "pygments_lexer": "ipython3",
   "version": "3.7.13"
  }
 },
 "nbformat": 4,
 "nbformat_minor": 2
}
